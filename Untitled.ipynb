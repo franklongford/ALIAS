{
 "cells": [
  {
   "cell_type": "code",
   "execution_count": 21,
   "metadata": {},
   "outputs": [],
   "source": [
    "surf_ten_martini_popc_1024_1 = 1E8 * 7.89162E-9 * (9.92381E-1 - (9.89567E-1 + 1.10771) / 2)\n",
    "surf_ten_martini_popc_1024_2 = 1E8 * 7.89385E-9 * (8.85331E-1 - (1.06132 + 8.16297E-1) / 2)\n",
    "surf_ten_martini_popc_1024_3 = 1E8 * 7.89062E-9 * (9.13631E-1 - (9.64923E-1 + 1.05768) / 2)\n",
    "\n",
    "surf_ten_martini_popc_2048_1 = 1E8 * 7.88801E-9 * (1.00665 - (1.00487 + 9.2777E-1) / 2)\n",
    "surf_ten_martini_popc_2048_2 = 1E8 * 7.89367E-9 * (9.09986E-1 - (1.03855 + 8.75367E-1) / 2)\n",
    "surf_ten_martini_popc_2048_3 = 1E8 * 7.89331E-9 * (9.45519E-1 - (9.10623E-1 + 9.76304E-1) / 2)\n"
   ]
  },
  {
   "cell_type": "code",
   "execution_count": 22,
   "metadata": {},
   "outputs": [
    {
     "name": "stdout",
     "output_type": "stream",
     "text": [
      "-0.044396281215000055 -0.042214336337500054 -0.07706808007100009\n",
      "0.05455956587450006\n",
      "0.031812344330000075 -0.03707854140750007 0.0016224698704999905\n",
      "0.0012145757356666674\n"
     ]
    }
   ],
   "source": [
    "\n",
    "print(surf_ten_martini_popc_1024_1, surf_ten_martini_popc_1024_2, surf_ten_martini_popc_1024_3)\n",
    "print(abs(surf_ten_martini_popc_1024_1 + surf_ten_martini_popc_1024_2 + surf_ten_martini_popc_1024_3) / 3)\n",
    "\n",
    "print(surf_ten_martini_popc_2048_1, surf_ten_martini_popc_2048_2, surf_ten_martini_popc_2048_3)\n",
    "print(abs(surf_ten_martini_popc_2048_1 + surf_ten_martini_popc_2048_2 + surf_ten_martini_popc_2048_3) / 3)"
   ]
  },
  {
   "cell_type": "code",
   "execution_count": 19,
   "metadata": {},
   "outputs": [],
   "source": [
    "surf_ten_martini_dopc_1024_1 = 1E8 * 7.52313E-9 * (9.29453E-1 - (9.38398E-1 + 1.12880) / 2)\n",
    "surf_ten_martini_dopc_1024_2 = 1E8 * 7.51954E-9 * (8.92917E-1 - (8.50387E-1 + 1.02832) / 2)\n",
    "surf_ten_martini_dopc_1024_3 = 1E8 * 7.52040E-9 * (1.02063 - (9.36204E-1 + 1.03939) / 2)\n",
    "\n",
    "\n",
    "surf_ten_martini_dopc_2048_1 = 1E8 * 7.61928E-9 * (1.07411 - (9.8699E-1 + 1.05306) / 2)\n",
    "surf_ten_martini_dopc_2048_2 = 1E8 * 7.61577E-9 * (9.42586E-1 - (9.92522E-1 + 9.27409E-1) / 2)\n",
    "surf_ten_martini_dopc_2048_3 = 1E8 * 7.62320E-9 * (9.03720E-1 - (9.92408E-1 + 8.62757E-1) / 2)"
   ]
  },
  {
   "cell_type": "code",
   "execution_count": 20,
   "metadata": {},
   "outputs": [
    {
     "name": "stdout",
     "output_type": "stream",
     "text": [
      "-0.07835038969799998 -0.034918111920999986 0.024691729319999918\n",
      "0.02952559076633335\n",
      "0.041208875879999954 -0.013235827471499994 -0.01819086100000001\n",
      "0.00326072913616665\n"
     ]
    }
   ],
   "source": [
    "print(surf_ten_martini_dopc_1024_1, surf_ten_martini_dopc_1024_2, surf_ten_martini_dopc_1024_3)\n",
    "print(abs(surf_ten_martini_dopc_1024_1 + surf_ten_martini_dopc_1024_2 + surf_ten_martini_dopc_1024_3) / 3)\n",
    "\n",
    "print(surf_ten_martini_dopc_2048_1, surf_ten_martini_dopc_2048_2, surf_ten_martini_dopc_2048_3)\n",
    "print(abs(surf_ten_martini_dopc_2048_1 + surf_ten_martini_dopc_2048_2 + surf_ten_martini_dopc_2048_3) / 3)"
   ]
  },
  {
   "cell_type": "code",
   "execution_count": 27,
   "metadata": {},
   "outputs": [
    {
     "name": "stdout",
     "output_type": "stream",
     "text": [
      "2.9632030795647997\n"
     ]
    }
   ],
   "source": [
    "from scipy import constants as con\n",
    "\n",
    "a = 67.07 * 4000\n",
    "err_a = 0.05 * 4000\n",
    "\n",
    "compress = a * con.k * 320 / (err_a**2 * 1E-20)\n",
    "print(compress)"
   ]
  },
  {
   "cell_type": "code",
   "execution_count": null,
   "metadata": {},
   "outputs": [],
   "source": []
  }
 ],
 "metadata": {
  "kernelspec": {
   "display_name": "Python 3",
   "language": "python",
   "name": "python3"
  },
  "language_info": {
   "codemirror_mode": {
    "name": "ipython",
    "version": 3
   },
   "file_extension": ".py",
   "mimetype": "text/x-python",
   "name": "python",
   "nbconvert_exporter": "python",
   "pygments_lexer": "ipython3",
   "version": "3.6.2"
  }
 },
 "nbformat": 4,
 "nbformat_minor": 2
}
